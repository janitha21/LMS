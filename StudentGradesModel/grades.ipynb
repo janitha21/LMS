{
 "cells": [
  {
   "cell_type": "code",
   "execution_count": 3,
   "id": "cad2c3b5-1399-4845-91c9-0e8314615b8e",
   "metadata": {},
   "outputs": [
    {
     "name": "stdout",
     "output_type": "stream",
     "text": [
      "Model Accuracy: 1.0\n",
      "Model saved as 'grading_model.pkl'\n"
     ]
    }
   ],
   "source": [
    "import pandas as pd\n",
    "import numpy as np\n",
    "from sklearn.model_selection import train_test_split\n",
    "from sklearn.ensemble import RandomForestClassifier\n",
    "from sklearn.metrics import accuracy_score\n",
    "import joblib\n",
    "\n",
    "# Load dataset\n",
    "data = pd.read_csv(\"ss.csv\")\n",
    "\n",
    "# Define input features and target labels\n",
    "X = data[['exam_marks', 'lab_marks', 'assignment_marks', 'attendance']]\n",
    "y = data['final_grade']\n",
    "\n",
    "# Split into training & test sets\n",
    "X_train, X_test, y_train, y_test = train_test_split(X, y, test_size=0.2, random_state=42)\n",
    "\n",
    "# Train the model\n",
    "model = RandomForestClassifier(n_estimators=100, random_state=42)\n",
    "model.fit(X_train, y_train)\n",
    "\n",
    "# Test accuracy\n",
    "y_pred = model.predict(X_test)\n",
    "print(\"Model Accuracy:\", accuracy_score(y_test, y_pred))\n",
    "\n",
    "# Save the trained model\n",
    "joblib.dump(model, \"grading_model.pkl\")\n",
    "print(\"Model saved as 'grading_model.pkl'\")\n"
   ]
  },
  {
   "cell_type": "code",
   "execution_count": 8,
   "id": "44d74162-ee7d-45b0-bdbf-28c5186467d7",
   "metadata": {},
   "outputs": [
    {
     "name": "stdout",
     "output_type": "stream",
     "text": [
      "Hello, Jupyter!\n"
     ]
    }
   ],
   "source": [
    "print(\"Hello, Jupyter!\")\n"
   ]
  },
  {
   "cell_type": "code",
   "execution_count": 9,
   "id": "f9339121-d727-4c33-b222-35cbe2e7bbfa",
   "metadata": {},
   "outputs": [
    {
     "name": "stdout",
     "output_type": "stream",
     "text": [
      "Model Loaded Successfully!\n"
     ]
    }
   ],
   "source": [
    "import joblib\n",
    "\n",
    "# Load the saved model\n",
    "model = joblib.load(\"grading_model.pkl\")\n",
    "print(\"Model Loaded Successfully!\")\n",
    "\n"
   ]
  },
  {
   "cell_type": "code",
   "execution_count": 18,
   "id": "15178916-28fa-432a-bec9-29e7253d3122",
   "metadata": {},
   "outputs": [
    {
     "name": "stdout",
     "output_type": "stream",
     "text": [
      "Predicted Grade: [2]\n"
     ]
    },
    {
     "name": "stderr",
     "output_type": "stream",
     "text": [
      "C:\\Users\\dell\\AppData\\Local\\Programs\\Python\\Python313\\Lib\\site-packages\\sklearn\\utils\\validation.py:2739: UserWarning: X does not have valid feature names, but RandomForestClassifier was fitted with feature names\n",
      "  warnings.warn(\n"
     ]
    }
   ],
   "source": [
    "import numpy as np\n",
    "\n",
    "# Example student data: [exam_mark, lab_mark, assignment_mark, attendance]\n",
    "sample_student = np.array([[45, 90, 11, 12]])  # Single student data\n",
    "\n",
    "# Make prediction\n",
    "predicted_grade = model.predict(sample_student)\n",
    "print(\"Predicted Grade:\", predicted_grade)\n"
   ]
  },
  {
   "cell_type": "code",
   "execution_count": null,
   "id": "05fe3697-821e-44e0-ac03-f4194de7c611",
   "metadata": {},
   "outputs": [],
   "source": []
  }
 ],
 "metadata": {
  "kernelspec": {
   "display_name": "Python 3 (ipykernel)",
   "language": "python",
   "name": "python3"
  },
  "language_info": {
   "codemirror_mode": {
    "name": "ipython",
    "version": 3
   },
   "file_extension": ".py",
   "mimetype": "text/x-python",
   "name": "python",
   "nbconvert_exporter": "python",
   "pygments_lexer": "ipython3",
   "version": "3.13.2"
  }
 },
 "nbformat": 4,
 "nbformat_minor": 5
}
